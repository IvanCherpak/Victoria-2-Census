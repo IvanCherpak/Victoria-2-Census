{
 "cells": [
  {
   "cell_type": "code",
   "execution_count": 4,
   "id": "6a53edb8-f5ce-4bb3-bf1e-12c5f598fe14",
   "metadata": {},
   "outputs": [],
   "source": [
    "import pandas as pd\n",
    "import numpy as np\n",
    "import matplotlib.pyplot as plt"
   ]
  },
  {
   "cell_type": "code",
   "execution_count": 5,
   "id": "38a6afac-bce1-4381-a518-25cf7f189fe0",
   "metadata": {},
   "outputs": [],
   "source": [
    "data = pd.read_csv(\"output.csv\", sep=\",\",\n",
    "                   header=0, #unnecessary\n",
    "                   names=[\"Year\",\n",
    "                          \"Tag\",\n",
    "                          \"Province\",\n",
    "                          \"Type\",\n",
    "                          \"Size\",\n",
    "                          \"Culture\",\n",
    "                          \"Religion\"                         \n",
    "                         ])"
   ]
  },
  {
   "cell_type": "code",
   "execution_count": 6,
   "id": "68615371-16aa-4edf-b138-63a314b20339",
   "metadata": {},
   "outputs": [
    {
     "data": {
      "text/html": [
       "<div>\n",
       "<style scoped>\n",
       "    .dataframe tbody tr th:only-of-type {\n",
       "        vertical-align: middle;\n",
       "    }\n",
       "\n",
       "    .dataframe tbody tr th {\n",
       "        vertical-align: top;\n",
       "    }\n",
       "\n",
       "    .dataframe thead th {\n",
       "        text-align: right;\n",
       "    }\n",
       "</style>\n",
       "<table border=\"1\" class=\"dataframe\">\n",
       "  <thead>\n",
       "    <tr style=\"text-align: right;\">\n",
       "      <th></th>\n",
       "      <th>Year</th>\n",
       "      <th>Tag</th>\n",
       "      <th>Province</th>\n",
       "      <th>Type</th>\n",
       "      <th>Size</th>\n",
       "      <th>Culture</th>\n",
       "      <th>Religion</th>\n",
       "    </tr>\n",
       "  </thead>\n",
       "  <tbody>\n",
       "    <tr>\n",
       "      <th>0</th>\n",
       "      <td>1840</td>\n",
       "      <td>RUS</td>\n",
       "      <td>New Arkhangelsk</td>\n",
       "      <td>aristocrats</td>\n",
       "      <td>15</td>\n",
       "      <td>alaskan</td>\n",
       "      <td>protestant</td>\n",
       "    </tr>\n",
       "    <tr>\n",
       "      <th>1</th>\n",
       "      <td>1840</td>\n",
       "      <td>RUS</td>\n",
       "      <td>New Arkhangelsk</td>\n",
       "      <td>aristocrats</td>\n",
       "      <td>5</td>\n",
       "      <td>alaskan</td>\n",
       "      <td>orthodox</td>\n",
       "    </tr>\n",
       "    <tr>\n",
       "      <th>2</th>\n",
       "      <td>1840</td>\n",
       "      <td>RUS</td>\n",
       "      <td>New Arkhangelsk</td>\n",
       "      <td>aristocrats</td>\n",
       "      <td>50</td>\n",
       "      <td>native_american_minor</td>\n",
       "      <td>animist</td>\n",
       "    </tr>\n",
       "    <tr>\n",
       "      <th>3</th>\n",
       "      <td>1840</td>\n",
       "      <td>RUS</td>\n",
       "      <td>New Arkhangelsk</td>\n",
       "      <td>aristocrats</td>\n",
       "      <td>50</td>\n",
       "      <td>inuit</td>\n",
       "      <td>animist</td>\n",
       "    </tr>\n",
       "    <tr>\n",
       "      <th>4</th>\n",
       "      <td>1840</td>\n",
       "      <td>RUS</td>\n",
       "      <td>New Arkhangelsk</td>\n",
       "      <td>artisans</td>\n",
       "      <td>32</td>\n",
       "      <td>alaskan</td>\n",
       "      <td>protestant</td>\n",
       "    </tr>\n",
       "    <tr>\n",
       "      <th>...</th>\n",
       "      <td>...</td>\n",
       "      <td>...</td>\n",
       "      <td>...</td>\n",
       "      <td>...</td>\n",
       "      <td>...</td>\n",
       "      <td>...</td>\n",
       "      <td>...</td>\n",
       "    </tr>\n",
       "    <tr>\n",
       "      <th>589667</th>\n",
       "      <td>1905</td>\n",
       "      <td>RUS</td>\n",
       "      <td>Усогорск</td>\n",
       "      <td>clergymen</td>\n",
       "      <td>34</td>\n",
       "      <td>russian</td>\n",
       "      <td>orthodox</td>\n",
       "    </tr>\n",
       "    <tr>\n",
       "      <th>589668</th>\n",
       "      <td>1905</td>\n",
       "      <td>RUS</td>\n",
       "      <td>Усогорск</td>\n",
       "      <td>craftsmen</td>\n",
       "      <td>794</td>\n",
       "      <td>russian</td>\n",
       "      <td>orthodox</td>\n",
       "    </tr>\n",
       "    <tr>\n",
       "      <th>589669</th>\n",
       "      <td>1905</td>\n",
       "      <td>RUS</td>\n",
       "      <td>Усогорск</td>\n",
       "      <td>craftsmen</td>\n",
       "      <td>130</td>\n",
       "      <td>ugrian</td>\n",
       "      <td>orthodox</td>\n",
       "    </tr>\n",
       "    <tr>\n",
       "      <th>589670</th>\n",
       "      <td>1905</td>\n",
       "      <td>RUS</td>\n",
       "      <td>Усогорск</td>\n",
       "      <td>labourers</td>\n",
       "      <td>5406</td>\n",
       "      <td>russian</td>\n",
       "      <td>orthodox</td>\n",
       "    </tr>\n",
       "    <tr>\n",
       "      <th>589671</th>\n",
       "      <td>1905</td>\n",
       "      <td>RUS</td>\n",
       "      <td>Усогорск</td>\n",
       "      <td>soldiers</td>\n",
       "      <td>226</td>\n",
       "      <td>russian</td>\n",
       "      <td>orthodox</td>\n",
       "    </tr>\n",
       "  </tbody>\n",
       "</table>\n",
       "<p>589672 rows × 7 columns</p>\n",
       "</div>"
      ],
      "text/plain": [
       "        Year  Tag         Province         Type  Size                Culture   \n",
       "0       1840  RUS  New Arkhangelsk  aristocrats    15                alaskan  \\\n",
       "1       1840  RUS  New Arkhangelsk  aristocrats     5                alaskan   \n",
       "2       1840  RUS  New Arkhangelsk  aristocrats    50  native_american_minor   \n",
       "3       1840  RUS  New Arkhangelsk  aristocrats    50                  inuit   \n",
       "4       1840  RUS  New Arkhangelsk     artisans    32                alaskan   \n",
       "...      ...  ...              ...          ...   ...                    ...   \n",
       "589667  1905  RUS         Усогорск    clergymen    34                russian   \n",
       "589668  1905  RUS         Усогорск    craftsmen   794                russian   \n",
       "589669  1905  RUS         Усогорск    craftsmen   130                 ugrian   \n",
       "589670  1905  RUS         Усогорск    labourers  5406                russian   \n",
       "589671  1905  RUS         Усогорск     soldiers   226                russian   \n",
       "\n",
       "          Religion  \n",
       "0       protestant  \n",
       "1         orthodox  \n",
       "2          animist  \n",
       "3          animist  \n",
       "4       protestant  \n",
       "...            ...  \n",
       "589667    orthodox  \n",
       "589668    orthodox  \n",
       "589669    orthodox  \n",
       "589670    orthodox  \n",
       "589671    orthodox  \n",
       "\n",
       "[589672 rows x 7 columns]"
      ]
     },
     "execution_count": 6,
     "metadata": {},
     "output_type": "execute_result"
    }
   ],
   "source": [
    "data"
   ]
  },
  {
   "cell_type": "markdown",
   "id": "861bf016-3439-4855-ae62-ba4a1cd1323d",
   "metadata": {},
   "source": [
    "# Culture growth"
   ]
  },
  {
   "cell_type": "markdown",
   "id": "7c8a4f20-a617-4794-b52f-8e0aa175de6a",
   "metadata": {
    "jp-MarkdownHeadingCollapsed": true
   },
   "source": [
    "## Culture total population per year"
   ]
  },
  {
   "cell_type": "code",
   "execution_count": 187,
   "id": "ea17a2d4-1acf-49cc-92f1-84a3858c4fb2",
   "metadata": {},
   "outputs": [
    {
     "data": {
      "text/html": [
       "<div>\n",
       "<style scoped>\n",
       "    .dataframe tbody tr th:only-of-type {\n",
       "        vertical-align: middle;\n",
       "    }\n",
       "\n",
       "    .dataframe tbody tr th {\n",
       "        vertical-align: top;\n",
       "    }\n",
       "\n",
       "    .dataframe thead th {\n",
       "        text-align: right;\n",
       "    }\n",
       "</style>\n",
       "<table border=\"1\" class=\"dataframe\">\n",
       "  <thead>\n",
       "    <tr style=\"text-align: right;\">\n",
       "      <th></th>\n",
       "      <th>Year</th>\n",
       "      <th>Culture</th>\n",
       "      <th>Size</th>\n",
       "    </tr>\n",
       "  </thead>\n",
       "  <tbody>\n",
       "    <tr>\n",
       "      <th>31</th>\n",
       "      <td>1836</td>\n",
       "      <td>beifaren</td>\n",
       "      <td>45641720</td>\n",
       "    </tr>\n",
       "    <tr>\n",
       "      <th>153</th>\n",
       "      <td>1836</td>\n",
       "      <td>nanfaren</td>\n",
       "      <td>37317623</td>\n",
       "    </tr>\n",
       "    <tr>\n",
       "      <th>182</th>\n",
       "      <td>1836</td>\n",
       "      <td>russian</td>\n",
       "      <td>7647858</td>\n",
       "    </tr>\n",
       "    <tr>\n",
       "      <th>95</th>\n",
       "      <td>1836</td>\n",
       "      <td>japanese</td>\n",
       "      <td>7164368</td>\n",
       "    </tr>\n",
       "    <tr>\n",
       "      <th>33</th>\n",
       "      <td>1836</td>\n",
       "      <td>bengali</td>\n",
       "      <td>6903017</td>\n",
       "    </tr>\n",
       "    <tr>\n",
       "      <th>...</th>\n",
       "      <td>...</td>\n",
       "      <td>...</td>\n",
       "      <td>...</td>\n",
       "    </tr>\n",
       "    <tr>\n",
       "      <th>4958</th>\n",
       "      <td>1935</td>\n",
       "      <td>cherokee</td>\n",
       "      <td>5048</td>\n",
       "    </tr>\n",
       "    <tr>\n",
       "      <th>5087</th>\n",
       "      <td>1935</td>\n",
       "      <td>pueblo</td>\n",
       "      <td>3261</td>\n",
       "    </tr>\n",
       "    <tr>\n",
       "      <th>5093</th>\n",
       "      <td>1935</td>\n",
       "      <td>sami</td>\n",
       "      <td>2943</td>\n",
       "    </tr>\n",
       "    <tr>\n",
       "      <th>5101</th>\n",
       "      <td>1935</td>\n",
       "      <td>siberian</td>\n",
       "      <td>1405</td>\n",
       "    </tr>\n",
       "    <tr>\n",
       "      <th>4920</th>\n",
       "      <td>1935</td>\n",
       "      <td>alaskan</td>\n",
       "      <td>1011</td>\n",
       "    </tr>\n",
       "  </tbody>\n",
       "</table>\n",
       "<p>5155 rows × 3 columns</p>\n",
       "</div>"
      ],
      "text/plain": [
       "      Year   Culture      Size\n",
       "31    1836  beifaren  45641720\n",
       "153   1836  nanfaren  37317623\n",
       "182   1836   russian   7647858\n",
       "95    1836  japanese   7164368\n",
       "33    1836   bengali   6903017\n",
       "...    ...       ...       ...\n",
       "4958  1935  cherokee      5048\n",
       "5087  1935    pueblo      3261\n",
       "5093  1935      sami      2943\n",
       "5101  1935  siberian      1405\n",
       "4920  1935   alaskan      1011\n",
       "\n",
       "[5155 rows x 3 columns]"
      ]
     },
     "execution_count": 187,
     "metadata": {},
     "output_type": "execute_result"
    }
   ],
   "source": [
    "data.groupby([\"Year\", \"Culture\"], as_index=False).sum(\"Size\").sort_values(by=[\"Year\", \"Size\"], ascending=[True, False])"
   ]
  },
  {
   "cell_type": "markdown",
   "id": "e761e378-1d6d-4579-aa78-f923e68f82c6",
   "metadata": {
    "jp-MarkdownHeadingCollapsed": true
   },
   "source": [
    "## Start/end of observation"
   ]
  },
  {
   "cell_type": "code",
   "execution_count": 188,
   "id": "251a9e59-c311-4001-8b16-d22cb09a71fe",
   "metadata": {},
   "outputs": [
    {
     "data": {
      "text/plain": [
       "1935"
      ]
     },
     "execution_count": 188,
     "metadata": {},
     "output_type": "execute_result"
    }
   ],
   "source": [
    "data[\"Year\"].max()"
   ]
  },
  {
   "cell_type": "code",
   "execution_count": 189,
   "id": "63dbb474-1452-49bd-bb68-f7c2e39eba9c",
   "metadata": {},
   "outputs": [
    {
     "data": {
      "text/plain": [
       "1836"
      ]
     },
     "execution_count": 189,
     "metadata": {},
     "output_type": "execute_result"
    }
   ],
   "source": [
    "data[\"Year\"].min()"
   ]
  },
  {
   "cell_type": "markdown",
   "id": "5410e48f-d136-4351-b99d-dbf0ccedd9c8",
   "metadata": {
    "jp-MarkdownHeadingCollapsed": true
   },
   "source": [
    "## Filtering"
   ]
  },
  {
   "cell_type": "code",
   "execution_count": 190,
   "id": "744566e7-c602-4a53-8d10-6eba63110611",
   "metadata": {},
   "outputs": [
    {
     "data": {
      "text/html": [
       "<div>\n",
       "<style scoped>\n",
       "    .dataframe tbody tr th:only-of-type {\n",
       "        vertical-align: middle;\n",
       "    }\n",
       "\n",
       "    .dataframe tbody tr th {\n",
       "        vertical-align: top;\n",
       "    }\n",
       "\n",
       "    .dataframe thead th {\n",
       "        text-align: right;\n",
       "    }\n",
       "</style>\n",
       "<table border=\"1\" class=\"dataframe\">\n",
       "  <thead>\n",
       "    <tr style=\"text-align: right;\">\n",
       "      <th></th>\n",
       "      <th>Year</th>\n",
       "      <th>Tag</th>\n",
       "      <th>Province</th>\n",
       "      <th>Type</th>\n",
       "      <th>Size</th>\n",
       "      <th>Culture</th>\n",
       "      <th>Religion</th>\n",
       "    </tr>\n",
       "  </thead>\n",
       "  <tbody>\n",
       "    <tr>\n",
       "      <th>165253</th>\n",
       "      <td>1935</td>\n",
       "      <td>USA</td>\n",
       "      <td>Sitka</td>\n",
       "      <td>aristocrats</td>\n",
       "      <td>25</td>\n",
       "      <td>japanese</td>\n",
       "      <td>shinto</td>\n",
       "    </tr>\n",
       "    <tr>\n",
       "      <th>165254</th>\n",
       "      <td>1935</td>\n",
       "      <td>USA</td>\n",
       "      <td>Sitka</td>\n",
       "      <td>aristocrats</td>\n",
       "      <td>36</td>\n",
       "      <td>polish</td>\n",
       "      <td>catholic</td>\n",
       "    </tr>\n",
       "    <tr>\n",
       "      <th>165255</th>\n",
       "      <td>1935</td>\n",
       "      <td>USA</td>\n",
       "      <td>Sitka</td>\n",
       "      <td>artisans</td>\n",
       "      <td>216</td>\n",
       "      <td>alaskan</td>\n",
       "      <td>protestant</td>\n",
       "    </tr>\n",
       "    <tr>\n",
       "      <th>165256</th>\n",
       "      <td>1935</td>\n",
       "      <td>USA</td>\n",
       "      <td>Sitka</td>\n",
       "      <td>artisans</td>\n",
       "      <td>865</td>\n",
       "      <td>texan</td>\n",
       "      <td>protestant</td>\n",
       "    </tr>\n",
       "    <tr>\n",
       "      <th>165257</th>\n",
       "      <td>1935</td>\n",
       "      <td>USA</td>\n",
       "      <td>Sitka</td>\n",
       "      <td>bureaucrats</td>\n",
       "      <td>5228</td>\n",
       "      <td>texan</td>\n",
       "      <td>protestant</td>\n",
       "    </tr>\n",
       "    <tr>\n",
       "      <th>...</th>\n",
       "      <td>...</td>\n",
       "      <td>...</td>\n",
       "      <td>...</td>\n",
       "      <td>...</td>\n",
       "      <td>...</td>\n",
       "      <td>...</td>\n",
       "      <td>...</td>\n",
       "    </tr>\n",
       "    <tr>\n",
       "      <th>254667</th>\n",
       "      <td>1836</td>\n",
       "      <td>NaN</td>\n",
       "      <td>Alty-Kuduk</td>\n",
       "      <td>aristocrats</td>\n",
       "      <td>100</td>\n",
       "      <td>kazak</td>\n",
       "      <td>sunni</td>\n",
       "    </tr>\n",
       "    <tr>\n",
       "      <th>254668</th>\n",
       "      <td>1836</td>\n",
       "      <td>NaN</td>\n",
       "      <td>Alty-Kuduk</td>\n",
       "      <td>artisans</td>\n",
       "      <td>350</td>\n",
       "      <td>kazak</td>\n",
       "      <td>sunni</td>\n",
       "    </tr>\n",
       "    <tr>\n",
       "      <th>254669</th>\n",
       "      <td>1836</td>\n",
       "      <td>NaN</td>\n",
       "      <td>Alty-Kuduk</td>\n",
       "      <td>clergymen</td>\n",
       "      <td>50</td>\n",
       "      <td>kazak</td>\n",
       "      <td>sunni</td>\n",
       "    </tr>\n",
       "    <tr>\n",
       "      <th>254670</th>\n",
       "      <td>1836</td>\n",
       "      <td>NaN</td>\n",
       "      <td>Alty-Kuduk</td>\n",
       "      <td>farmers</td>\n",
       "      <td>6425</td>\n",
       "      <td>kazak</td>\n",
       "      <td>sunni</td>\n",
       "    </tr>\n",
       "    <tr>\n",
       "      <th>254671</th>\n",
       "      <td>1836</td>\n",
       "      <td>NaN</td>\n",
       "      <td>Alty-Kuduk</td>\n",
       "      <td>soldiers</td>\n",
       "      <td>75</td>\n",
       "      <td>kazak</td>\n",
       "      <td>sunni</td>\n",
       "    </tr>\n",
       "  </tbody>\n",
       "</table>\n",
       "<p>57644 rows × 7 columns</p>\n",
       "</div>"
      ],
      "text/plain": [
       "        Year  Tag    Province         Type  Size   Culture    Religion\n",
       "165253  1935  USA       Sitka  aristocrats    25  japanese      shinto\n",
       "165254  1935  USA       Sitka  aristocrats    36    polish    catholic\n",
       "165255  1935  USA       Sitka     artisans   216   alaskan  protestant\n",
       "165256  1935  USA       Sitka     artisans   865     texan  protestant\n",
       "165257  1935  USA       Sitka  bureaucrats  5228     texan  protestant\n",
       "...      ...  ...         ...          ...   ...       ...         ...\n",
       "254667  1836  NaN  Alty-Kuduk  aristocrats   100     kazak       sunni\n",
       "254668  1836  NaN  Alty-Kuduk     artisans   350     kazak       sunni\n",
       "254669  1836  NaN  Alty-Kuduk    clergymen    50     kazak       sunni\n",
       "254670  1836  NaN  Alty-Kuduk      farmers  6425     kazak       sunni\n",
       "254671  1836  NaN  Alty-Kuduk     soldiers    75     kazak       sunni\n",
       "\n",
       "[57644 rows x 7 columns]"
      ]
     },
     "execution_count": 190,
     "metadata": {},
     "output_type": "execute_result"
    }
   ],
   "source": [
    "data[ (data[\"Year\"] == data[\"Year\"].max()) | (data[\"Year\"] == data[\"Year\"].min()) ]"
   ]
  },
  {
   "cell_type": "code",
   "execution_count": 191,
   "id": "407eacff-4e38-48c6-a680-13086716d12a",
   "metadata": {},
   "outputs": [],
   "source": [
    "culture_df = data[ (data[\"Year\"] == data[\"Year\"].max()) | (data[\"Year\"] == data[\"Year\"].min()) ].groupby([\"Year\", \"Culture\"]).sum(\"Size\").reset_index()"
   ]
  },
  {
   "cell_type": "code",
   "execution_count": 192,
   "id": "d75a09a8-0376-4a35-bfa9-26bb15756978",
   "metadata": {},
   "outputs": [
    {
     "data": {
      "text/html": [
       "<div>\n",
       "<style scoped>\n",
       "    .dataframe tbody tr th:only-of-type {\n",
       "        vertical-align: middle;\n",
       "    }\n",
       "\n",
       "    .dataframe tbody tr th {\n",
       "        vertical-align: top;\n",
       "    }\n",
       "\n",
       "    .dataframe thead th {\n",
       "        text-align: right;\n",
       "    }\n",
       "</style>\n",
       "<table border=\"1\" class=\"dataframe\">\n",
       "  <thead>\n",
       "    <tr style=\"text-align: right;\">\n",
       "      <th></th>\n",
       "      <th>Year</th>\n",
       "      <th>Culture</th>\n",
       "      <th>Size</th>\n",
       "    </tr>\n",
       "  </thead>\n",
       "  <tbody>\n",
       "    <tr>\n",
       "      <th>0</th>\n",
       "      <td>1836</td>\n",
       "      <td>aborigine</td>\n",
       "      <td>70346</td>\n",
       "    </tr>\n",
       "    <tr>\n",
       "      <th>1</th>\n",
       "      <td>1836</td>\n",
       "      <td>afar</td>\n",
       "      <td>21977</td>\n",
       "    </tr>\n",
       "    <tr>\n",
       "      <th>2</th>\n",
       "      <td>1836</td>\n",
       "      <td>afro_american</td>\n",
       "      <td>618131</td>\n",
       "    </tr>\n",
       "    <tr>\n",
       "      <th>3</th>\n",
       "      <td>1836</td>\n",
       "      <td>afro_antillean</td>\n",
       "      <td>183081</td>\n",
       "    </tr>\n",
       "    <tr>\n",
       "      <th>4</th>\n",
       "      <td>1836</td>\n",
       "      <td>afro_brazilian</td>\n",
       "      <td>687152</td>\n",
       "    </tr>\n",
       "    <tr>\n",
       "      <th>...</th>\n",
       "      <td>...</td>\n",
       "      <td>...</td>\n",
       "      <td>...</td>\n",
       "    </tr>\n",
       "    <tr>\n",
       "      <th>486</th>\n",
       "      <td>1935</td>\n",
       "      <td>yi</td>\n",
       "      <td>554256</td>\n",
       "    </tr>\n",
       "    <tr>\n",
       "      <th>487</th>\n",
       "      <td>1935</td>\n",
       "      <td>yoruba</td>\n",
       "      <td>3033234</td>\n",
       "    </tr>\n",
       "    <tr>\n",
       "      <th>488</th>\n",
       "      <td>1935</td>\n",
       "      <td>yue</td>\n",
       "      <td>5198898</td>\n",
       "    </tr>\n",
       "    <tr>\n",
       "      <th>489</th>\n",
       "      <td>1935</td>\n",
       "      <td>zhuang</td>\n",
       "      <td>1672923</td>\n",
       "    </tr>\n",
       "    <tr>\n",
       "      <th>490</th>\n",
       "      <td>1935</td>\n",
       "      <td>zulu</td>\n",
       "      <td>442633</td>\n",
       "    </tr>\n",
       "  </tbody>\n",
       "</table>\n",
       "<p>491 rows × 3 columns</p>\n",
       "</div>"
      ],
      "text/plain": [
       "     Year         Culture     Size\n",
       "0    1836       aborigine    70346\n",
       "1    1836            afar    21977\n",
       "2    1836   afro_american   618131\n",
       "3    1836  afro_antillean   183081\n",
       "4    1836  afro_brazilian   687152\n",
       "..    ...             ...      ...\n",
       "486  1935              yi   554256\n",
       "487  1935          yoruba  3033234\n",
       "488  1935             yue  5198898\n",
       "489  1935          zhuang  1672923\n",
       "490  1935            zulu   442633\n",
       "\n",
       "[491 rows x 3 columns]"
      ]
     },
     "execution_count": 192,
     "metadata": {},
     "output_type": "execute_result"
    }
   ],
   "source": [
    "culture_df"
   ]
  },
  {
   "cell_type": "markdown",
   "id": "ca847017-49c5-4730-95c5-23fc483d4196",
   "metadata": {},
   "source": [
    "## Population for end/start years"
   ]
  },
  {
   "cell_type": "code",
   "execution_count": 193,
   "id": "c8225137-fd98-4199-999d-7e54eacbf5ee",
   "metadata": {},
   "outputs": [],
   "source": [
    "end = culture_df[ culture_df[\"Year\"] == culture_df[\"Year\"].max()].reset_index()[[\"Culture\", \"Size\"]]"
   ]
  },
  {
   "cell_type": "code",
   "execution_count": 194,
   "id": "ae4ea0d5-78a7-4999-b29c-5a6a87146f7c",
   "metadata": {},
   "outputs": [],
   "source": [
    "start = culture_df[ culture_df[\"Year\"] == culture_df[\"Year\"].min()][[\"Culture\", \"Size\"]]"
   ]
  },
  {
   "cell_type": "markdown",
   "id": "a731c711-f631-4353-90be-f81d7e77d92b",
   "metadata": {},
   "source": [
    "## Extinct culture"
   ]
  },
  {
   "cell_type": "markdown",
   "id": "d2121dae-32df-4bee-94b5-8a5caa29914c",
   "metadata": {},
   "source": [
    "                There is additional row at the start.\n",
    "                That means that some culture got extinct. Let's find it"
   ]
  },
  {
   "cell_type": "code",
   "execution_count": 195,
   "id": "41b946fc-7329-43d3-9ba0-abba1dfb2938",
   "metadata": {},
   "outputs": [],
   "source": [
    "merged = pd.merge(start[[\"Culture\"]], end[[\"Culture\"]],\n",
    "                  how=\"outer\",\n",
    "                  indicator=True # _merge col values: right_only / left_only - data in one of the DataFrames,\n",
    "                                 # both - obvious\n",
    "                 )"
   ]
  },
  {
   "cell_type": "code",
   "execution_count": 196,
   "id": "0bf04144-acc4-4cbc-b106-9c6338440dd0",
   "metadata": {},
   "outputs": [
    {
     "data": {
      "text/html": [
       "<div>\n",
       "<style scoped>\n",
       "    .dataframe tbody tr th:only-of-type {\n",
       "        vertical-align: middle;\n",
       "    }\n",
       "\n",
       "    .dataframe tbody tr th {\n",
       "        vertical-align: top;\n",
       "    }\n",
       "\n",
       "    .dataframe thead th {\n",
       "        text-align: right;\n",
       "    }\n",
       "</style>\n",
       "<table border=\"1\" class=\"dataframe\">\n",
       "  <thead>\n",
       "    <tr style=\"text-align: right;\">\n",
       "      <th></th>\n",
       "      <th>Culture</th>\n",
       "      <th>_merge</th>\n",
       "    </tr>\n",
       "  </thead>\n",
       "  <tbody>\n",
       "    <tr>\n",
       "      <th>0</th>\n",
       "      <td>aborigine</td>\n",
       "      <td>both</td>\n",
       "    </tr>\n",
       "    <tr>\n",
       "      <th>1</th>\n",
       "      <td>afar</td>\n",
       "      <td>both</td>\n",
       "    </tr>\n",
       "    <tr>\n",
       "      <th>2</th>\n",
       "      <td>afro_american</td>\n",
       "      <td>both</td>\n",
       "    </tr>\n",
       "    <tr>\n",
       "      <th>3</th>\n",
       "      <td>afro_antillean</td>\n",
       "      <td>both</td>\n",
       "    </tr>\n",
       "    <tr>\n",
       "      <th>4</th>\n",
       "      <td>afro_brazilian</td>\n",
       "      <td>both</td>\n",
       "    </tr>\n",
       "    <tr>\n",
       "      <th>...</th>\n",
       "      <td>...</td>\n",
       "      <td>...</td>\n",
       "    </tr>\n",
       "    <tr>\n",
       "      <th>241</th>\n",
       "      <td>yi</td>\n",
       "      <td>both</td>\n",
       "    </tr>\n",
       "    <tr>\n",
       "      <th>242</th>\n",
       "      <td>yoruba</td>\n",
       "      <td>both</td>\n",
       "    </tr>\n",
       "    <tr>\n",
       "      <th>243</th>\n",
       "      <td>yue</td>\n",
       "      <td>both</td>\n",
       "    </tr>\n",
       "    <tr>\n",
       "      <th>244</th>\n",
       "      <td>zhuang</td>\n",
       "      <td>both</td>\n",
       "    </tr>\n",
       "    <tr>\n",
       "      <th>245</th>\n",
       "      <td>zulu</td>\n",
       "      <td>both</td>\n",
       "    </tr>\n",
       "  </tbody>\n",
       "</table>\n",
       "<p>246 rows × 2 columns</p>\n",
       "</div>"
      ],
      "text/plain": [
       "            Culture _merge\n",
       "0         aborigine   both\n",
       "1              afar   both\n",
       "2     afro_american   both\n",
       "3    afro_antillean   both\n",
       "4    afro_brazilian   both\n",
       "..              ...    ...\n",
       "241              yi   both\n",
       "242          yoruba   both\n",
       "243             yue   both\n",
       "244          zhuang   both\n",
       "245            zulu   both\n",
       "\n",
       "[246 rows x 2 columns]"
      ]
     },
     "execution_count": 196,
     "metadata": {},
     "output_type": "execute_result"
    }
   ],
   "source": [
    "merged"
   ]
  },
  {
   "cell_type": "code",
   "execution_count": 197,
   "id": "7a5aec8f-a7b4-45fa-9ca3-faf1a2aeab70",
   "metadata": {},
   "outputs": [],
   "source": [
    "extinct_culture = merged[merged[\"_merge\"] != \"both\"].Culture.values[0]"
   ]
  },
  {
   "cell_type": "code",
   "execution_count": 198,
   "id": "ac5930d5-3adc-48c6-a6fe-6df5e93c8aab",
   "metadata": {},
   "outputs": [
    {
     "data": {
      "text/plain": [
       "'tupinamba'"
      ]
     },
     "execution_count": 198,
     "metadata": {},
     "output_type": "execute_result"
    }
   ],
   "source": [
    "extinct_culture"
   ]
  },
  {
   "cell_type": "code",
   "execution_count": 199,
   "id": "822dd5d8-fb4f-4d9f-a6db-068263d05bd0",
   "metadata": {},
   "outputs": [],
   "source": [
    "ext_date = data[ data[\"Culture\"] == extinct_culture][\"Year\"].max()"
   ]
  },
  {
   "cell_type": "code",
   "execution_count": 200,
   "id": "4818e8a7-1346-4e75-9be1-8f72c7501cc3",
   "metadata": {},
   "outputs": [
    {
     "name": "stdout",
     "output_type": "stream",
     "text": [
      "tupinamba died out between 1880 and 1885\n"
     ]
    }
   ],
   "source": [
    "print(f\"{extinct_culture} died out between {ext_date} and {ext_date+5}\")"
   ]
  },
  {
   "cell_type": "markdown",
   "id": "e3f3e242-d1d4-43c7-9b3c-8d3add02f723",
   "metadata": {
    "jp-MarkdownHeadingCollapsed": true
   },
   "source": [
    "## Difference (times)"
   ]
  },
  {
   "cell_type": "code",
   "execution_count": 201,
   "id": "607adc98-529d-401a-9746-12a1dbd25214",
   "metadata": {},
   "outputs": [],
   "source": [
    "start_population = culture_df[ culture_df[\"Year\"] == culture_df[\"Year\"].min()][['Culture', 'Size']]"
   ]
  },
  {
   "cell_type": "code",
   "execution_count": 202,
   "id": "fcf0ddce-9cd3-42ce-8d5a-3d892418e8be",
   "metadata": {},
   "outputs": [],
   "source": [
    "end_population = culture_df[ culture_df[\"Year\"] == culture_df[\"Year\"].max()].reset_index()[['Culture', 'Size']]"
   ]
  },
  {
   "cell_type": "markdown",
   "id": "4cb44a3b",
   "metadata": {},
   "source": [
    "                                Missing value"
   ]
  },
  {
   "cell_type": "code",
   "execution_count": 203,
   "id": "b42c21d9",
   "metadata": {},
   "outputs": [],
   "source": [
    "ext = pd.DataFrame( {\"Culture\": extinct_culture, \"Size\": 0},\n",
    "                    index=[\n",
    "                           (start_population.loc[start_population[\"Culture\"] == extinct_culture]\n",
    "                            .index - 0.5).values[0]\n",
    "                          ] \n",
    "                  )"
   ]
  },
  {
   "cell_type": "code",
   "execution_count": 204,
   "id": "951f2ee0",
   "metadata": {},
   "outputs": [],
   "source": [
    "end_population = pd.concat([end_population, ext], ignore_index=False)\n",
    "end_population = end_population.sort_index().reset_index(drop=True)"
   ]
  },
  {
   "cell_type": "markdown",
   "id": "f23da8da",
   "metadata": {},
   "source": [
    "                                Result"
   ]
  },
  {
   "cell_type": "code",
   "execution_count": 205,
   "id": "be0a0ea2-9e79-420d-98ad-b2a917e9ff37",
   "metadata": {},
   "outputs": [],
   "source": [
    "population_difference =\\\n",
    "   pd.DataFrame( [start_population.Culture,\n",
    "                 ((end_population.Size - start_population.Size) / start_population.Size)\n",
    "                 ] ).T"
   ]
  },
  {
   "cell_type": "code",
   "execution_count": 206,
   "id": "cfcc5ae0-03e0-4ed3-9789-ce2e2a9a1798",
   "metadata": {},
   "outputs": [
    {
     "data": {
      "text/html": [
       "<div>\n",
       "<style scoped>\n",
       "    .dataframe tbody tr th:only-of-type {\n",
       "        vertical-align: middle;\n",
       "    }\n",
       "\n",
       "    .dataframe tbody tr th {\n",
       "        vertical-align: top;\n",
       "    }\n",
       "\n",
       "    .dataframe thead th {\n",
       "        text-align: right;\n",
       "    }\n",
       "</style>\n",
       "<table border=\"1\" class=\"dataframe\">\n",
       "  <thead>\n",
       "    <tr style=\"text-align: right;\">\n",
       "      <th></th>\n",
       "      <th>Culture</th>\n",
       "      <th>Size</th>\n",
       "    </tr>\n",
       "  </thead>\n",
       "  <tbody>\n",
       "    <tr>\n",
       "      <th>20</th>\n",
       "      <td>australian</td>\n",
       "      <td>526.804728</td>\n",
       "    </tr>\n",
       "    <tr>\n",
       "      <th>215</th>\n",
       "      <td>texan</td>\n",
       "      <td>94.565828</td>\n",
       "    </tr>\n",
       "    <tr>\n",
       "      <th>74</th>\n",
       "      <td>french_canadian</td>\n",
       "      <td>36.647948</td>\n",
       "    </tr>\n",
       "    <tr>\n",
       "      <th>133</th>\n",
       "      <td>manchu</td>\n",
       "      <td>8.547185</td>\n",
       "    </tr>\n",
       "    <tr>\n",
       "      <th>199</th>\n",
       "      <td>south_andean</td>\n",
       "      <td>7.824232</td>\n",
       "    </tr>\n",
       "  </tbody>\n",
       "</table>\n",
       "</div>"
      ],
      "text/plain": [
       "             Culture        Size\n",
       "20        australian  526.804728\n",
       "215            texan   94.565828\n",
       "74   french_canadian   36.647948\n",
       "133           manchu    8.547185\n",
       "199     south_andean    7.824232"
      ]
     },
     "execution_count": 206,
     "metadata": {},
     "output_type": "execute_result"
    }
   ],
   "source": [
    "population_difference.sort_values(by=\"Size\", ascending=False).head(5)"
   ]
  },
  {
   "cell_type": "markdown",
   "id": "995d4441-9253-41ab-8035-bc7c398bba6f",
   "metadata": {
    "jp-MarkdownHeadingCollapsed": true
   },
   "source": [
    "# The most diverse province"
   ]
  },
  {
   "cell_type": "markdown",
   "id": "e277a5b3-f821-4c37-8cd2-9a5d806d94d2",
   "metadata": {},
   "source": [
    "                                          Number of cultures in each province each year"
   ]
  },
  {
   "cell_type": "code",
   "execution_count": 207,
   "id": "26eaac79-bdd9-4e8f-b5fd-f2cc0d4d4ee1",
   "metadata": {},
   "outputs": [],
   "source": [
    "cultures_count = data.groupby([\"Year\", \"Province\"])[\"Culture\"].\\\n",
    "nunique().\\\n",
    "reset_index()"
   ]
  },
  {
   "cell_type": "code",
   "execution_count": 208,
   "id": "596bb213-8ad2-4838-a18d-01cc712f422b",
   "metadata": {},
   "outputs": [
    {
     "data": {
      "text/html": [
       "<div>\n",
       "<style scoped>\n",
       "    .dataframe tbody tr th:only-of-type {\n",
       "        vertical-align: middle;\n",
       "    }\n",
       "\n",
       "    .dataframe tbody tr th {\n",
       "        vertical-align: top;\n",
       "    }\n",
       "\n",
       "    .dataframe thead th {\n",
       "        text-align: right;\n",
       "    }\n",
       "</style>\n",
       "<table border=\"1\" class=\"dataframe\">\n",
       "  <thead>\n",
       "    <tr style=\"text-align: right;\">\n",
       "      <th></th>\n",
       "      <th>Year</th>\n",
       "      <th>Province</th>\n",
       "      <th>Culture</th>\n",
       "    </tr>\n",
       "  </thead>\n",
       "  <tbody>\n",
       "    <tr>\n",
       "      <th>0</th>\n",
       "      <td>1836</td>\n",
       "      <td>Abakan</td>\n",
       "      <td>2</td>\n",
       "    </tr>\n",
       "    <tr>\n",
       "      <th>1</th>\n",
       "      <td>1836</td>\n",
       "      <td>Aconcagua</td>\n",
       "      <td>1</td>\n",
       "    </tr>\n",
       "    <tr>\n",
       "      <th>2</th>\n",
       "      <td>1836</td>\n",
       "      <td>Ahuriri</td>\n",
       "      <td>2</td>\n",
       "    </tr>\n",
       "    <tr>\n",
       "      <th>3</th>\n",
       "      <td>1836</td>\n",
       "      <td>Aixa-aibes</td>\n",
       "      <td>2</td>\n",
       "    </tr>\n",
       "    <tr>\n",
       "      <th>4</th>\n",
       "      <td>1836</td>\n",
       "      <td>Ak-Mechet</td>\n",
       "      <td>2</td>\n",
       "    </tr>\n",
       "    <tr>\n",
       "      <th>...</th>\n",
       "      <td>...</td>\n",
       "      <td>...</td>\n",
       "      <td>...</td>\n",
       "    </tr>\n",
       "    <tr>\n",
       "      <th>56250</th>\n",
       "      <td>1935</td>\n",
       "      <td>Яссы</td>\n",
       "      <td>4</td>\n",
       "    </tr>\n",
       "    <tr>\n",
       "      <th>56251</th>\n",
       "      <td>1935</td>\n",
       "      <td>Ясудж</td>\n",
       "      <td>4</td>\n",
       "    </tr>\n",
       "    <tr>\n",
       "      <th>56252</th>\n",
       "      <td>1935</td>\n",
       "      <td>Яунде</td>\n",
       "      <td>4</td>\n",
       "    </tr>\n",
       "    <tr>\n",
       "      <th>56253</th>\n",
       "      <td>1935</td>\n",
       "      <td>Яффа</td>\n",
       "      <td>3</td>\n",
       "    </tr>\n",
       "    <tr>\n",
       "      <th>56254</th>\n",
       "      <td>1935</td>\n",
       "      <td>Ячжоу</td>\n",
       "      <td>12</td>\n",
       "    </tr>\n",
       "  </tbody>\n",
       "</table>\n",
       "<p>56255 rows × 3 columns</p>\n",
       "</div>"
      ],
      "text/plain": [
       "       Year    Province  Culture\n",
       "0      1836      Abakan        2\n",
       "1      1836   Aconcagua        1\n",
       "2      1836     Ahuriri        2\n",
       "3      1836  Aixa-aibes        2\n",
       "4      1836   Ak-Mechet        2\n",
       "...     ...         ...      ...\n",
       "56250  1935        Яссы        4\n",
       "56251  1935       Ясудж        4\n",
       "56252  1935       Яунде        4\n",
       "56253  1935        Яффа        3\n",
       "56254  1935       Ячжоу       12\n",
       "\n",
       "[56255 rows x 3 columns]"
      ]
     },
     "execution_count": 208,
     "metadata": {},
     "output_type": "execute_result"
    }
   ],
   "source": [
    "cultures_count"
   ]
  },
  {
   "cell_type": "markdown",
   "id": "96874f55-10c6-478a-b341-ea56760b7f5d",
   "metadata": {},
   "source": [
    "                                                Result"
   ]
  },
  {
   "cell_type": "code",
   "execution_count": 209,
   "id": "223d1e02-4097-4aa1-85c1-e1debdc744a1",
   "metadata": {},
   "outputs": [
    {
     "data": {
      "text/html": [
       "<div>\n",
       "<style scoped>\n",
       "    .dataframe tbody tr th:only-of-type {\n",
       "        vertical-align: middle;\n",
       "    }\n",
       "\n",
       "    .dataframe tbody tr th {\n",
       "        vertical-align: top;\n",
       "    }\n",
       "\n",
       "    .dataframe thead th {\n",
       "        text-align: right;\n",
       "    }\n",
       "</style>\n",
       "<table border=\"1\" class=\"dataframe\">\n",
       "  <thead>\n",
       "    <tr style=\"text-align: right;\">\n",
       "      <th></th>\n",
       "      <th>Year</th>\n",
       "      <th>Province</th>\n",
       "      <th>Culture</th>\n",
       "    </tr>\n",
       "  </thead>\n",
       "  <tbody>\n",
       "    <tr>\n",
       "      <th>2144</th>\n",
       "      <td>1836</td>\n",
       "      <td>Стамбул</td>\n",
       "      <td>8</td>\n",
       "    </tr>\n",
       "    <tr>\n",
       "      <th>3396</th>\n",
       "      <td>1840</td>\n",
       "      <td>Вад-Мадани</td>\n",
       "      <td>9</td>\n",
       "    </tr>\n",
       "    <tr>\n",
       "      <th>5535</th>\n",
       "      <td>1845</td>\n",
       "      <td>La Mesilla</td>\n",
       "      <td>12</td>\n",
       "    </tr>\n",
       "    <tr>\n",
       "      <th>8214</th>\n",
       "      <td>1850</td>\n",
       "      <td>La Mesilla</td>\n",
       "      <td>13</td>\n",
       "    </tr>\n",
       "    <tr>\n",
       "      <th>12527</th>\n",
       "      <td>1855</td>\n",
       "      <td>Парана</td>\n",
       "      <td>13</td>\n",
       "    </tr>\n",
       "    <tr>\n",
       "      <th>15206</th>\n",
       "      <td>1860</td>\n",
       "      <td>Парана</td>\n",
       "      <td>17</td>\n",
       "    </tr>\n",
       "    <tr>\n",
       "      <th>17688</th>\n",
       "      <td>1865</td>\n",
       "      <td>Монтевидео</td>\n",
       "      <td>19</td>\n",
       "    </tr>\n",
       "    <tr>\n",
       "      <th>20182</th>\n",
       "      <td>1870</td>\n",
       "      <td>Лос-Анджелес</td>\n",
       "      <td>18</td>\n",
       "    </tr>\n",
       "    <tr>\n",
       "      <th>23048</th>\n",
       "      <td>1875</td>\n",
       "      <td>Монтевидео</td>\n",
       "      <td>20</td>\n",
       "    </tr>\n",
       "    <tr>\n",
       "      <th>26032</th>\n",
       "      <td>1880</td>\n",
       "      <td>Пуэрто-Мальдонадо</td>\n",
       "      <td>23</td>\n",
       "    </tr>\n",
       "    <tr>\n",
       "      <th>27082</th>\n",
       "      <td>1885</td>\n",
       "      <td>Sakami</td>\n",
       "      <td>28</td>\n",
       "    </tr>\n",
       "    <tr>\n",
       "      <th>30676</th>\n",
       "      <td>1890</td>\n",
       "      <td>Квебек-Сити</td>\n",
       "      <td>23</td>\n",
       "    </tr>\n",
       "    <tr>\n",
       "      <th>33774</th>\n",
       "      <td>1895</td>\n",
       "      <td>Монтевидео</td>\n",
       "      <td>25</td>\n",
       "    </tr>\n",
       "    <tr>\n",
       "      <th>35049</th>\n",
       "      <td>1900</td>\n",
       "      <td>Mistissini</td>\n",
       "      <td>24</td>\n",
       "    </tr>\n",
       "    <tr>\n",
       "      <th>39137</th>\n",
       "      <td>1905</td>\n",
       "      <td>Монтевидео</td>\n",
       "      <td>26</td>\n",
       "    </tr>\n",
       "    <tr>\n",
       "      <th>41821</th>\n",
       "      <td>1910</td>\n",
       "      <td>Монтевидео</td>\n",
       "      <td>29</td>\n",
       "    </tr>\n",
       "    <tr>\n",
       "      <th>43114</th>\n",
       "      <td>1915</td>\n",
       "      <td>New Plymouth</td>\n",
       "      <td>26</td>\n",
       "    </tr>\n",
       "    <tr>\n",
       "      <th>47180</th>\n",
       "      <td>1920</td>\n",
       "      <td>Монтевидео</td>\n",
       "      <td>27</td>\n",
       "    </tr>\n",
       "    <tr>\n",
       "      <th>49859</th>\n",
       "      <td>1925</td>\n",
       "      <td>Монтевидео</td>\n",
       "      <td>28</td>\n",
       "    </tr>\n",
       "    <tr>\n",
       "      <th>50977</th>\n",
       "      <td>1930</td>\n",
       "      <td>Colonia</td>\n",
       "      <td>31</td>\n",
       "    </tr>\n",
       "    <tr>\n",
       "      <th>55212</th>\n",
       "      <td>1935</td>\n",
       "      <td>Монреаль</td>\n",
       "      <td>29</td>\n",
       "    </tr>\n",
       "  </tbody>\n",
       "</table>\n",
       "</div>"
      ],
      "text/plain": [
       "       Year           Province  Culture\n",
       "2144   1836            Стамбул        8\n",
       "3396   1840         Вад-Мадани        9\n",
       "5535   1845         La Mesilla       12\n",
       "8214   1850         La Mesilla       13\n",
       "12527  1855             Парана       13\n",
       "15206  1860             Парана       17\n",
       "17688  1865         Монтевидео       19\n",
       "20182  1870       Лос-Анджелес       18\n",
       "23048  1875         Монтевидео       20\n",
       "26032  1880  Пуэрто-Мальдонадо       23\n",
       "27082  1885             Sakami       28\n",
       "30676  1890        Квебек-Сити       23\n",
       "33774  1895         Монтевидео       25\n",
       "35049  1900         Mistissini       24\n",
       "39137  1905         Монтевидео       26\n",
       "41821  1910         Монтевидео       29\n",
       "43114  1915       New Plymouth       26\n",
       "47180  1920         Монтевидео       27\n",
       "49859  1925         Монтевидео       28\n",
       "50977  1930            Colonia       31\n",
       "55212  1935           Монреаль       29"
      ]
     },
     "execution_count": 209,
     "metadata": {},
     "output_type": "execute_result"
    }
   ],
   "source": [
    "cultures_count.\\\n",
    "            loc[cultures_count.groupby(\"Year\")[\"Culture\"].idxmax()]"
   ]
  },
  {
   "cell_type": "markdown",
   "id": "84fb0303-f66e-4d0a-81a9-52b784a69081",
   "metadata": {
    "jp-MarkdownHeadingCollapsed": true
   },
   "source": [
    "# Population chart"
   ]
  },
  {
   "cell_type": "code",
   "execution_count": 7,
   "id": "158b5a12-8f26-485a-8aec-614d201f3271",
   "metadata": {},
   "outputs": [],
   "source": [
    "cult1 = \"alaskan\"\n",
    "cult2 = \"cherokee\""
   ]
  },
  {
   "cell_type": "code",
   "execution_count": 8,
   "id": "b5af26ee-2943-445a-8159-e537ec69a7e4",
   "metadata": {},
   "outputs": [],
   "source": [
    "def cult_history(data: pd.DataFrame, cult: \"string\") -> pd.Series:\n",
    "    return data[ data[\"Culture\"] == cult ].\\\n",
    "            groupby([\"Year\"], as_index=False).\\\n",
    "            sum(\"Size\").\\\n",
    "            sort_values(by=[\"Year\"], ascending=True)[\"Size\"]"
   ]
  },
  {
   "cell_type": "code",
   "execution_count": 9,
   "id": "0421e65f-e3e6-4a11-b058-466c41a662ee",
   "metadata": {},
   "outputs": [],
   "source": [
    "cult1_history, cult2_history = [cult_history(data, cult1), cult_history(data, cult2)]"
   ]
  },
  {
   "cell_type": "code",
   "execution_count": 10,
   "id": "de1d358c-bc49-4c17-a0d4-7514367bdace",
   "metadata": {},
   "outputs": [
    {
     "data": {
      "text/plain": [
       "0      596\n",
       "1      618\n",
       "2      715\n",
       "3      929\n",
       "4     1335\n",
       "5     1717\n",
       "6     2049\n",
       "7     2666\n",
       "8     3133\n",
       "9     3143\n",
       "10    3147\n",
       "11    3348\n",
       "12    3452\n",
       "13    3488\n",
       "14    3819\n",
       "15    3430\n",
       "16    2220\n",
       "17    1526\n",
       "18     940\n",
       "19     882\n",
       "20    1011\n",
       "Name: Size, dtype: int64"
      ]
     },
     "execution_count": 10,
     "metadata": {},
     "output_type": "execute_result"
    }
   ],
   "source": [
    "cult1_history"
   ]
  },
  {
   "cell_type": "code",
   "execution_count": 11,
   "id": "f83a350f-db8f-4de7-851e-630ff206274d",
   "metadata": {},
   "outputs": [
    {
     "data": {
      "text/plain": [
       "0     7071\n",
       "1     4500\n",
       "2     2901\n",
       "3     1963\n",
       "4     1389\n",
       "5      914\n",
       "6      616\n",
       "7      523\n",
       "8      401\n",
       "9      294\n",
       "10     185\n",
       "11     175\n",
       "12     208\n",
       "13     482\n",
       "14     970\n",
       "15    1451\n",
       "16    1933\n",
       "17    2590\n",
       "18    3058\n",
       "19    4057\n",
       "20    5048\n",
       "Name: Size, dtype: int64"
      ]
     },
     "execution_count": 11,
     "metadata": {},
     "output_type": "execute_result"
    }
   ],
   "source": [
    "cult2_history"
   ]
  },
  {
   "cell_type": "code",
   "execution_count": 12,
   "id": "d65c9f1d-6b82-4873-9811-2bebee097069",
   "metadata": {},
   "outputs": [],
   "source": [
    "years = sorted(list(data[\"Year\"].unique()))"
   ]
  },
  {
   "cell_type": "code",
   "execution_count": 13,
   "id": "76044ddc-ab79-4969-8985-7476649b9b18",
   "metadata": {},
   "outputs": [
    {
     "data": {
      "text/plain": [
       "[1836,\n",
       " 1840,\n",
       " 1845,\n",
       " 1850,\n",
       " 1855,\n",
       " 1860,\n",
       " 1865,\n",
       " 1870,\n",
       " 1875,\n",
       " 1880,\n",
       " 1885,\n",
       " 1890,\n",
       " 1895,\n",
       " 1900,\n",
       " 1905,\n",
       " 1910,\n",
       " 1915,\n",
       " 1920,\n",
       " 1925,\n",
       " 1930,\n",
       " 1935]"
      ]
     },
     "execution_count": 13,
     "metadata": {},
     "output_type": "execute_result"
    }
   ],
   "source": [
    "years"
   ]
  },
  {
   "cell_type": "code",
   "execution_count": 15,
   "id": "277497f0-104b-4784-9a06-1437642cfdb3",
   "metadata": {},
   "outputs": [
    {
     "data": {
      "text/plain": [
       "<matplotlib.legend.Legend at 0x7ff6c3482dd0>"
      ]
     },
     "execution_count": 15,
     "metadata": {},
     "output_type": "execute_result"
    },
    {
     "data": {
      "image/png": "[encoded data removed]",
      "text/plain": [
       "<Figure size 432x288 with 1 Axes>"
      ]
     },
     "metadata": {
      "needs_background": "light"
     },
     "output_type": "display_data"
    }
   ],
   "source": [
    "plt.plot(years, cult1_history.values, 'rs--',\n",
    "         years, cult2_history.values, 'go--')\n",
    "\n",
    "plt.legend([cult1, cult2], loc=\"upper right\" )"
   ]
  },
  {
   "cell_type": "code",
   "execution_count": 224,
   "id": "5adbc840-dd9f-4298-8c06-fac50ff6e422",
   "metadata": {},
   "outputs": [
    {
     "data": {
      "text/plain": [
       "<matplotlib.legend.Legend at 0x7f7500a29630>"
      ]
     },
     "execution_count": 224,
     "metadata": {},
     "output_type": "execute_result"
    },
    {
     "data": {
      "image/png": "[encoded data removed]",
      "text/plain": [
       "<Figure size 432x288 with 1 Axes>"
      ]
     },
     "metadata": {
      "needs_background": "light"
     },
     "output_type": "display_data"
    }
   ],
   "source": [
    "plt.fill_between( years, cult1_history, alpha=0.25, color=\"green\" )\n",
    "plt.fill_between( years, cult2_history, alpha=0.5, color=\"red\"  )\n",
    "\n",
    "plt.legend([cult1, cult2])"
   ]
  },
  {
   "cell_type": "markdown",
   "id": "bf6484d0-7378-4945-84d7-de64b3592c71",
   "metadata": {
    "jp-MarkdownHeadingCollapsed": true
   },
   "source": [
    "# Costa Rica population"
   ]
  },
  {
   "cell_type": "code",
   "execution_count": 226,
   "id": "012c012c-c5d5-4dff-8de6-a32e060eee0a",
   "metadata": {},
   "outputs": [],
   "source": [
    "cos_data = data[ data[\"Tag\"] == \"COS\"].groupby(by=[\"Year\"], as_index=False).sum(\"Size\")"
   ]
  },
  {
   "cell_type": "code",
   "execution_count": 227,
   "id": "ad612b47-5b49-45b7-aa19-75a330213d88",
   "metadata": {
    "scrolled": false
   },
   "outputs": [
    {
     "data": {
      "text/html": [
       "<div>\n",
       "<style scoped>\n",
       "    .dataframe tbody tr th:only-of-type {\n",
       "        vertical-align: middle;\n",
       "    }\n",
       "\n",
       "    .dataframe tbody tr th {\n",
       "        vertical-align: top;\n",
       "    }\n",
       "\n",
       "    .dataframe thead th {\n",
       "        text-align: right;\n",
       "    }\n",
       "</style>\n",
       "<table border=\"1\" class=\"dataframe\">\n",
       "  <thead>\n",
       "    <tr style=\"text-align: right;\">\n",
       "      <th></th>\n",
       "      <th>Year</th>\n",
       "      <th>Size</th>\n",
       "    </tr>\n",
       "  </thead>\n",
       "  <tbody>\n",
       "    <tr>\n",
       "      <th>0</th>\n",
       "      <td>1836</td>\n",
       "      <td>22077</td>\n",
       "    </tr>\n",
       "    <tr>\n",
       "      <th>1</th>\n",
       "      <td>1840</td>\n",
       "      <td>22618</td>\n",
       "    </tr>\n",
       "    <tr>\n",
       "      <th>2</th>\n",
       "      <td>1845</td>\n",
       "      <td>23272</td>\n",
       "    </tr>\n",
       "    <tr>\n",
       "      <th>3</th>\n",
       "      <td>1850</td>\n",
       "      <td>24090</td>\n",
       "    </tr>\n",
       "    <tr>\n",
       "      <th>4</th>\n",
       "      <td>1855</td>\n",
       "      <td>24960</td>\n",
       "    </tr>\n",
       "    <tr>\n",
       "      <th>5</th>\n",
       "      <td>1860</td>\n",
       "      <td>25856</td>\n",
       "    </tr>\n",
       "    <tr>\n",
       "      <th>6</th>\n",
       "      <td>1865</td>\n",
       "      <td>27268</td>\n",
       "    </tr>\n",
       "    <tr>\n",
       "      <th>7</th>\n",
       "      <td>1870</td>\n",
       "      <td>28614</td>\n",
       "    </tr>\n",
       "    <tr>\n",
       "      <th>8</th>\n",
       "      <td>1875</td>\n",
       "      <td>30289</td>\n",
       "    </tr>\n",
       "    <tr>\n",
       "      <th>9</th>\n",
       "      <td>1880</td>\n",
       "      <td>32075</td>\n",
       "    </tr>\n",
       "    <tr>\n",
       "      <th>10</th>\n",
       "      <td>1885</td>\n",
       "      <td>34270</td>\n",
       "    </tr>\n",
       "    <tr>\n",
       "      <th>11</th>\n",
       "      <td>1890</td>\n",
       "      <td>36758</td>\n",
       "    </tr>\n",
       "    <tr>\n",
       "      <th>12</th>\n",
       "      <td>1895</td>\n",
       "      <td>39604</td>\n",
       "    </tr>\n",
       "    <tr>\n",
       "      <th>13</th>\n",
       "      <td>1900</td>\n",
       "      <td>42961</td>\n",
       "    </tr>\n",
       "    <tr>\n",
       "      <th>14</th>\n",
       "      <td>1905</td>\n",
       "      <td>46856</td>\n",
       "    </tr>\n",
       "    <tr>\n",
       "      <th>15</th>\n",
       "      <td>1910</td>\n",
       "      <td>51126</td>\n",
       "    </tr>\n",
       "    <tr>\n",
       "      <th>16</th>\n",
       "      <td>1915</td>\n",
       "      <td>55912</td>\n",
       "    </tr>\n",
       "    <tr>\n",
       "      <th>17</th>\n",
       "      <td>1920</td>\n",
       "      <td>61129</td>\n",
       "    </tr>\n",
       "    <tr>\n",
       "      <th>18</th>\n",
       "      <td>1925</td>\n",
       "      <td>66700</td>\n",
       "    </tr>\n",
       "    <tr>\n",
       "      <th>19</th>\n",
       "      <td>1930</td>\n",
       "      <td>117617</td>\n",
       "    </tr>\n",
       "    <tr>\n",
       "      <th>20</th>\n",
       "      <td>1935</td>\n",
       "      <td>204453</td>\n",
       "    </tr>\n",
       "  </tbody>\n",
       "</table>\n",
       "</div>"
      ],
      "text/plain": [
       "    Year    Size\n",
       "0   1836   22077\n",
       "1   1840   22618\n",
       "2   1845   23272\n",
       "3   1850   24090\n",
       "4   1855   24960\n",
       "5   1860   25856\n",
       "6   1865   27268\n",
       "7   1870   28614\n",
       "8   1875   30289\n",
       "9   1880   32075\n",
       "10  1885   34270\n",
       "11  1890   36758\n",
       "12  1895   39604\n",
       "13  1900   42961\n",
       "14  1905   46856\n",
       "15  1910   51126\n",
       "16  1915   55912\n",
       "17  1920   61129\n",
       "18  1925   66700\n",
       "19  1930  117617\n",
       "20  1935  204453"
      ]
     },
     "execution_count": 227,
     "metadata": {},
     "output_type": "execute_result"
    }
   ],
   "source": [
    "cos_data"
   ]
  },
  {
   "cell_type": "code",
   "execution_count": 228,
   "id": "f078b9cb-776e-4ad0-a333-8ca4b567a75b",
   "metadata": {},
   "outputs": [
    {
     "data": {
      "text/plain": [
       "Text(1900, 90000, 'mass migration')"
      ]
     },
     "execution_count": 228,
     "metadata": {},
     "output_type": "execute_result"
    },
    {
     "data": {
      "image/png": "[encoded data removed]",
      "text/plain": [
       "<Figure size 432x288 with 1 Axes>"
      ]
     },
     "metadata": {
      "needs_background": "light"
     },
     "output_type": "display_data"
    }
   ],
   "source": [
    "plt.plot( cos_data.Year.values, cos_data.Size.values, 'x--')\n",
    "\n",
    "plt.annotate(\"mass migration\", # text\n",
    "             xy=(1925, 66000), # end of arrow\n",
    "             xytext=(1900, 90000), # start of arrow\n",
    "             arrowprops=dict(arrowstyle='->'))"
   ]
  }
 ],
 "metadata": {
  "kernelspec": {
   "display_name": "Python 3 (ipykernel)",
   "language": "python",
   "name": "python3"
  },
  "language_info": {
   "codemirror_mode": {
    "name": "ipython",
    "version": 3
   },
   "file_extension": ".py",
   "mimetype": "text/x-python",
   "name": "python",
   "nbconvert_exporter": "python",
   "pygments_lexer": "ipython3",
   "version": "3.10.12"
  }
 },
 "nbformat": 4,
 "nbformat_minor": 5
}
